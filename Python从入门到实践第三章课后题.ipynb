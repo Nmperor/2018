{
 "cells": [
  {
   "cell_type": "code",
   "execution_count": 1,
   "metadata": {},
   "outputs": [
    {
     "name": "stdout",
     "output_type": "stream",
     "text": [
      "广夏\n",
      "大棚\n",
      "斌\n"
     ]
    }
   ],
   "source": [
    "#3-1 姓名： 将一些朋友的姓名存储在一个列表中，并将其命名为 names。依次访问\n",
    "#r该列表中的每个元素，从而将每个朋友的姓名都打印出来。\n",
    "names=['广夏','大棚','斌']\n",
    "for i in names:\n",
    "    print(i)"
   ]
  },
  {
   "cell_type": "code",
   "execution_count": 2,
   "metadata": {},
   "outputs": [
    {
     "name": "stdout",
     "output_type": "stream",
     "text": [
      "广夏,好久不见，还好吗？\n",
      "大棚,好久不见，还好吗？\n",
      "斌,好久不见，还好吗？\n"
     ]
    }
   ],
   "source": [
    "'''\n",
    "3-2 问候语： 继续使用练习 3-1 中的列表，但不打印每个朋友的姓名，而为每人打\n",
    "印一条消息。每条消息都包含相同的问候语，但抬头为相应朋友的姓名。\n",
    "'''\n",
    "names=['广夏','大棚','斌']\n",
    "for i in names:\n",
    "    wenhou=i+',好久不见，还好吗？'\n",
    "    print(wenhou)"
   ]
  },
  {
   "cell_type": "code",
   "execution_count": 3,
   "metadata": {},
   "outputs": [
    {
     "name": "stdout",
     "output_type": "stream",
     "text": [
      "i would like to on foot!\n",
      "i would like to by car!\n",
      "i would like to by airplan!\n"
     ]
    }
   ],
   "source": [
    "'''\n",
    "3-3 自己的列表： 想想你喜欢的通勤方式，如骑摩托车或开汽车，并创建一个包含\n",
    "多种通勤方式的列表。根据该列表打印一系列有关这些通勤方式的宣言，如“I would like\n",
    "to own a Honda motorcycle”。\n",
    "'''\n",
    "style=['on foot','by car','by airplan']\n",
    "for like in style:\n",
    "    print('i would like to '+like+'!')"
   ]
  },
  {
   "cell_type": "code",
   "execution_count": 4,
   "metadata": {},
   "outputs": [
    {
     "name": "stdout",
     "output_type": "stream",
     "text": [
      "yy,have a dinner all right?\n",
      "cc,have a dinner all right?\n",
      "dd,have a dinner all right?\n"
     ]
    }
   ],
   "source": [
    "\n",
    "'''\n",
    "3-4 嘉宾名单：如果你可以邀请任何人一起共进晚餐（无论是在世的还是故去的），\n",
    "你会邀请哪些人？请创建一个列表，其中包含至少 3 个你想邀请的人；然后，使用这个\n",
    "列表打印消息，邀请这些人来与你共进晚餐。\n",
    "'''\n",
    "friends=['yy','cc','dd']\n",
    "for friend in friends :\n",
    "    print(friend+',have a dinner all right?')"
   ]
  },
  {
   "cell_type": "code",
   "execution_count": 5,
   "metadata": {},
   "outputs": [
    {
     "name": "stdout",
     "output_type": "stream",
     "text": [
      "yyccdd\n",
      "********************\n",
      "yy can't come,hope ss have time!\n",
      "&&&&&&&&&&&&&&&&&&&&\n",
      "cc,have a dinner all right?\n",
      "dd,have a dinner all right?\n",
      "ss,have a dinner all right?\n"
     ]
    }
   ],
   "source": [
    "'''3-5 修改嘉宾名单：你刚得知有位嘉宾无法赴约，因此需要另外邀请一位嘉宾。\n",
    " 以完成练习 3-4 时编写的程序为基础，在程序末尾添加一条 print 语句，指出哪位嘉宾无法赴约。\n",
    " 修改嘉宾名单，将无法赴约的嘉宾的姓名替换为新邀请的嘉宾的姓名。\n",
    " 再次打印一系列消息，向名单中的每位嘉宾发出邀请。\n",
    "'''\n",
    "friends=['yy','cc','dd']\n",
    "for friend in friends:\n",
    "    print(friend,end='')\n",
    "print('\\n'+'*'*20)\n",
    "print('yy can\\'t come,hope ss have time!')\n",
    "print('&'*20)\n",
    "friends.remove('yy')\n",
    "friends.append('ss')\n",
    "\n",
    "for friend in friends :\n",
    "    print(friend+',have a dinner all right?')\n",
    "\n",
    "\n"
   ]
  },
  {
   "cell_type": "code",
   "execution_count": 6,
   "metadata": {},
   "outputs": [
    {
     "name": "stdout",
     "output_type": "stream",
     "text": [
      "['cc', 'dd', 'ss']\n",
      "['aa', 'cc', 'bb', 'dd', 'ss']\n",
      "hi,aa come to my home and have a dinner,don't forget~\n",
      "hi,cc come to my home and have a dinner,don't forget~\n",
      "hi,bb come to my home and have a dinner,don't forget~\n",
      "hi,dd come to my home and have a dinner,don't forget~\n",
      "hi,ss come to my home and have a dinner,don't forget~\n",
      "hi,ee come to my home and have a dinner,don't forget~\n"
     ]
    }
   ],
   "source": [
    "'''3-6 添加嘉宾 ：你刚找到了一个更大的餐桌，可容纳更多的嘉宾。请想想你还想邀请哪三位嘉宾。 \n",
    "以完成练习3-4或练习3-5时编写的程序为基础，在程序末尾添加一条print 语句，指出你找到了一个更大的餐桌。 \n",
    "使用insert() 将一位新嘉宾添加到名单开头。 使用insert() 将另一位新嘉宾添加到名单中间。 \n",
    "使用append() 将最后一位新嘉宾添加到名单末尾。\n",
    "打印一系列消息，向名单中的每位嘉宾发出邀请。'''\n",
    "friends=['cc','dd','ss']\n",
    "print(friends)\n",
    "friends.insert(0,'aa')\n",
    "mid=len(friends)/2\n",
    "friends.insert(int(mid),'bb')\n",
    "print(friends)\n",
    "friends.append('ee')\n",
    "for friend in friends:\n",
    "    print('hi,'+friend+' come to my home and have a dinner,don\\'t forget~')\n",
    "\n"
   ]
  },
  {
   "cell_type": "code",
   "execution_count": 9,
   "metadata": {},
   "outputs": [
    {
     "name": "stdout",
     "output_type": "stream",
     "text": [
      "['cc', 'dd', 'ss']\n",
      "['aa', 'cc', 'bb', 'dd', 'ss']\n",
      "hi,aa come to my home and have a dinner,don't forget~\n",
      "hi,cc come to my home and have a dinner,don't forget~\n",
      "hi,bb come to my home and have a dinner,don't forget~\n",
      "hi,dd come to my home and have a dinner,don't forget~\n",
      "hi,ss come to my home and have a dinner,don't forget~\n",
      "hi,ee come to my home and have a dinner,don't forget~\n",
      "sorry, ee next time i must make sure everything is ,table can not arrive today,so the party is cancel!\n",
      "sorry, ss next time i must make sure everything is ,table can not arrive today,so the party is cancel!\n",
      "sorry, dd next time i must make sure everything is ,table can not arrive today,so the party is cancel!\n",
      "sorry, bb next time i must make sure everything is ,table can not arrive today,so the party is cancel!\n",
      "['aa', 'cc']\n",
      "the shit table make me feel bad,only you and aa come,coming soon,we talke about it later\n",
      "the shit table make me feel bad,only you and cc come,coming soon,we talke about it later\n"
     ]
    },
    {
     "ename": "NameError",
     "evalue": "name 'friends' is not defined",
     "output_type": "error",
     "traceback": [
      "\u001b[1;31m---------------------------------------------------------------------------\u001b[0m",
      "\u001b[1;31mNameError\u001b[0m                                 Traceback (most recent call last)",
      "\u001b[1;32m<ipython-input-9-72867ceb04d5>\u001b[0m in \u001b[0;36m<module>\u001b[1;34m\u001b[0m\n\u001b[0;32m     25\u001b[0m     \u001b[0mprint\u001b[0m\u001b[1;33m(\u001b[0m\u001b[1;34m'the shit table make me feel bad,only you and '\u001b[0m\u001b[1;33m+\u001b[0m\u001b[0mfriend\u001b[0m\u001b[1;33m+\u001b[0m\u001b[1;34m' come,coming soon,we talke about it later'\u001b[0m\u001b[1;33m)\u001b[0m\u001b[1;33m\u001b[0m\u001b[0m\n\u001b[0;32m     26\u001b[0m \u001b[1;32mdel\u001b[0m \u001b[1;33m(\u001b[0m\u001b[0mfriends\u001b[0m\u001b[1;33m)\u001b[0m\u001b[1;33m\u001b[0m\u001b[0m\n\u001b[1;32m---> 27\u001b[1;33m \u001b[0mprint\u001b[0m\u001b[1;33m(\u001b[0m\u001b[0mfriends\u001b[0m\u001b[1;33m)\u001b[0m\u001b[1;33m\u001b[0m\u001b[0m\n\u001b[0m",
      "\u001b[1;31mNameError\u001b[0m: name 'friends' is not defined"
     ]
    }
   ],
   "source": [
    "'''3-7 缩减名单 缩减名单 ：你刚得知新购买的餐桌无法及时送达，因此只能邀请两位嘉宾。\n",
    " 以完成练习3-6时编写的程序为基础，在程序末尾添加一行代码，打印一条你只能邀请两位嘉宾共进晚餐的消息。\n",
    " 使用pop() 不断地删除名单中的嘉宾，直到只有两位嘉宾为止。每次从名单中弹出一位嘉宾时，都打印一条消息，\n",
    " 让该嘉宾知悉你很抱歉，无法邀请他来共进 晚餐。\n",
    " 对于余下的两位嘉宾中的每一位，都打印一条消息，指出他依然在受邀人之列。\n",
    " 使用del 将最后两位嘉宾从名单中删除，让名单变成空的。打印该名单，核实程序结束时名单确实是空的。 \n",
    "\n",
    "'''\n",
    "\n",
    "friends=['cc','dd','ss']\n",
    "print(friends)\n",
    "friends.insert(0,'aa')\n",
    "mid=len(friends)/2\n",
    "friends.insert(int(mid),'bb')\n",
    "print(friends)\n",
    "friends.append('ee')\n",
    "for friend in friends:\n",
    "    print('hi,'+friend+' come to my home and have a dinner,don\\'t forget~')\n",
    "#****************************************************************\n",
    "while len(friends)>2:\n",
    "    out=friends.pop()\n",
    "    print('sorry, '+out+' next time i must make sure everything is ,table can not arrive today,so the party is cancel!')\n",
    "print(friends)\n",
    "for friend in friends:\n",
    "    print('the shit table make me feel bad,only you and '+friend+' come,coming soon,we talke about it later')\n",
    "del (friends)\n",
    "print(friends)\n"
   ]
  },
  {
   "cell_type": "code",
   "execution_count": 8,
   "metadata": {},
   "outputs": [
    {
     "name": "stdout",
     "output_type": "stream",
     "text": [
      "['USA', 'Japan', 'Korea']\n",
      "['Japan', 'Korea', 'USA']\n",
      "['USA', 'Japan', 'Korea']\n",
      "['USA', 'Korea', 'Japan']\n",
      "['USA', 'Japan', 'Korea']\n",
      "['Korea', 'Japan', 'USA']\n",
      "['USA', 'Japan', 'Korea']\n",
      "['Japan', 'Korea', 'USA']\n",
      "['USA', 'Korea', 'Japan']\n"
     ]
    }
   ],
   "source": [
    "'''3-8 放眼世界 ：想出至少5个你渴望去旅游的地方。 将这些地方存储在一个列表中，并确保其中的元素不是按字母顺序排列的。\n",
    " 按原始排列顺序打印该列表。不要考虑输出是否整洁的问题，只管打印原始Python列表。\n",
    " 使用sorted() 按字母顺序打印这个列表，同时不要修改它。\n",
    " 再次打印该列表，核实排列顺序未变。\n",
    " 使用sorted() 按与字母顺序相反的顺序打印这个列表，同时不要修改它。\n",
    " 再次打印该列表，核实排列顺序未变。\n",
    " 使用reverse() 修改列表元素的排列顺序。打印该列表，核实排列顺序确实变了。\n",
    " 使用reverse() 再次修改列表元素的排列顺序。打印列表，核实已恢复到原来的排列顺序。\n",
    " 使用sort() 修改该列表，使其元素按字母顺序排列。打印该列表，核实排列顺序确实变了。\n",
    " 使用sort() 修改该列表，使其元素按与字母顺序相反的顺序排列。打印该列表，核实排列顺序确实变了。\n",
    " '''\n",
    "wanna_place=['USA','Japan','Korea']\n",
    "print(wanna_place)\n",
    "print(sorted(wanna_place))\n",
    "print(wanna_place)\n",
    "\n",
    "print(sorted(wanna_place,reverse=True))\n",
    "print(wanna_place)\n",
    "\n",
    "wanna_place.reverse()\n",
    "print(wanna_place)\n",
    "\n",
    "wanna_place.reverse()\n",
    "print(wanna_place)\n",
    "\n",
    "wanna_place.sort()\n",
    "print(wanna_place)\n",
    "\n",
    "wanna_place.sort(reverse=True)\n",
    "print(wanna_place)\n"
   ]
  },
  {
   "cell_type": "code",
   "execution_count": 7,
   "metadata": {},
   "outputs": [
    {
     "name": "stdout",
     "output_type": "stream",
     "text": [
      "3\n"
     ]
    }
   ],
   "source": [
    "'''3-9 晚餐嘉宾 ：在完成练习3-4~练习3-7时编写的程序之一中，使用len() 打印一条消息，指出你邀请了多少位嘉宾来与你共进晚餐。 \n",
    "'''\n",
    "wanna_place=['USA','Japan','Korea']\n",
    "print(len(wanna_place))"
   ]
  },
  {
   "cell_type": "code",
   "execution_count": 10,
   "metadata": {},
   "outputs": [
    {
     "name": "stdout",
     "output_type": "stream",
     "text": [
      "['brazil', 'USA', 'Japan', 'Korea']\n",
      "['brazil', 'USA', 'Japan', 'Korea', 'UK']\n",
      "['brazil', 'USA', 'Japan', 'Korea']\n",
      "['brazil', 'USA', 'Japan']\n",
      "['Korea']\n",
      "['USA', 'Japan']\n",
      "['Japan', 'USA']\n"
     ]
    }
   ],
   "source": [
    "'''3-10  尝试使用各个函数 ：想想可存储到列表中的东西，如山岳、河流、国家、城市、语言或你喜欢的任何东西。\n",
    "编写一个程序，在其中创建一个包含这些元素的列 表，然后，对于本章介绍的每个函数，都至少使用一次来处理这个列表。\n",
    "'''\n",
    "wanna_place=['USA','Japan','Korea']\n",
    "wanna_place.insert(0,'brazil')\n",
    "print(wanna_place)\n",
    "wanna_place.append('UK')\n",
    "print(wanna_place)\n",
    "wanna_place.remove('UK')\n",
    "print(wanna_place)\n",
    "i=wanna_place.pop()\n",
    "print(wanna_place)\n",
    "print([i])\n",
    "del wanna_place[0]\n",
    "print(wanna_place)\n",
    "sorted(wanna_place)\n",
    "wanna_place.sort()\n",
    "print(wanna_place)"
   ]
  }
 ],
 "metadata": {
  "kernelspec": {
   "display_name": "Python 3",
   "language": "python",
   "name": "python3"
  },
  "language_info": {
   "codemirror_mode": {
    "name": "ipython",
    "version": 3
   },
   "file_extension": ".py",
   "mimetype": "text/x-python",
   "name": "python",
   "nbconvert_exporter": "python",
   "pygments_lexer": "ipython3",
   "version": "3.7.0"
  }
 },
 "nbformat": 4,
 "nbformat_minor": 2
}
