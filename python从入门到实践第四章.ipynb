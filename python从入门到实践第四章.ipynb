{
 "cells": [
  {
   "cell_type": "code",
   "execution_count": 1,
   "metadata": {},
   "outputs": [
    {
     "name": "stdout",
     "output_type": "stream",
     "text": [
      "I likeKFC\n",
      "I likeRICE\n",
      "I likeNOODLE\n",
      "I really love this world\n"
     ]
    }
   ],
   "source": [
    "'''\n",
    "4-1 比萨：想出至少三种你喜欢的比萨，将其名称存储在一个列表中，再使用 for\n",
    "循环将每种比萨的名称都打印出来。\n",
    " 修改这个 for 循环，使其打印包含比萨名称的句子，而不仅仅是比萨的名称。对\n",
    "于每种比萨，都显示一行输出，如“I like pepperoni pizza”。\n",
    " 在程序末尾添加一行代码，它不在 for 循环中，指出你有多喜欢比萨。输出应包\n",
    "含针对每种比萨的消息，还有一个总结性句子，如“I really love pizza!”。\n",
    "'''\n",
    "likes=['KFC','RICE','NOODLE']\n",
    "for like in likes:\n",
    "    print('I like'+like)\n",
    "print('I really love this world')"
   ]
  },
  {
   "cell_type": "code",
   "execution_count": 2,
   "metadata": {},
   "outputs": [
    {
     "name": "stdout",
     "output_type": "stream",
     "text": [
      "human sapiens\n",
      "human\n",
      "monkey\n",
      "human sapiens are smart\n",
      "human are claver\n",
      "monkey are intelligent\n",
      "Any of these humans are wisdom\n"
     ]
    }
   ],
   "source": [
    "'''\n",
    "4-2 动物：想出至少三种有共同特征的动物，将这些动物的名称存储在一个列表中，\n",
    "再使用 for 循环将每种动物的名称都打印出来。\n",
    " 修改这个程序，使其针对每种动物都打印一个句子，如“A dog would make a great\n",
    "pet”。\n",
    " 在程序末尾添加一行代码，指出这些动物的共同之处，如打印诸如“Any of these\n",
    "animals would make a great pet!”这样的句子。\n",
    "'''\n",
    "humans=['human sapiens','human','monkey']\n",
    "for human in humans:\n",
    "    print(human)\n",
    "print(humans[0]+' are smart')\n",
    "print(humans[1]+' are claver')\n",
    "print(humans[2]+' are intelligent')\n",
    "    \n",
    "print('Any of these humans are wisdom')"
   ]
  },
  {
   "cell_type": "code",
   "execution_count": 3,
   "metadata": {},
   "outputs": [
    {
     "name": "stdout",
     "output_type": "stream",
     "text": [
      "1 2 3 4 5 6 7 8 9 10 11 12 13 14 15 16 17 18 19 20 "
     ]
    }
   ],
   "source": [
    "\n",
    "'''\n",
    "4-3 数到 20：使用一个 for 循环打印数字 1~20（含）。\n",
    "'''\n",
    "for n in range(1,21):\n",
    "    print(n,end=' ')"
   ]
  },
  {
   "cell_type": "code",
   "execution_count": 4,
   "metadata": {},
   "outputs": [
    {
     "name": "stdout",
     "output_type": "stream",
     "text": [
      "1\n",
      "2\n",
      "3\n",
      "4\n",
      "5\n",
      "6\n",
      "7\n",
      "8\n",
      "9\n",
      "10\n",
      "11\n",
      "12\n",
      "13\n",
      "14\n",
      "15\n",
      "16\n",
      "17\n",
      "18\n",
      "19\n",
      "20\n",
      "21\n",
      "22\n",
      "23\n",
      "24\n",
      "25\n",
      "26\n",
      "27\n",
      "28\n",
      "29\n",
      "30\n",
      "31\n",
      "32\n",
      "33\n",
      "34\n",
      "35\n",
      "36\n",
      "37\n",
      "38\n",
      "39\n",
      "40\n",
      "41\n",
      "42\n",
      "43\n",
      "44\n",
      "45\n",
      "46\n",
      "47\n",
      "48\n",
      "49\n",
      "50\n",
      "51\n",
      "52\n",
      "53\n",
      "54\n",
      "55\n",
      "56\n",
      "57\n",
      "58\n",
      "59\n",
      "60\n",
      "61\n",
      "62\n",
      "63\n",
      "64\n",
      "65\n",
      "66\n",
      "67\n",
      "68\n",
      "69\n",
      "70\n",
      "71\n",
      "72\n",
      "73\n",
      "74\n",
      "75\n",
      "76\n",
      "77\n",
      "78\n",
      "79\n",
      "80\n",
      "81\n",
      "82\n",
      "83\n",
      "84\n",
      "85\n",
      "86\n",
      "87\n",
      "88\n",
      "89\n",
      "90\n",
      "91\n",
      "92\n",
      "93\n",
      "94\n",
      "95\n",
      "96\n",
      "97\n",
      "98\n",
      "99\n",
      "100\n"
     ]
    }
   ],
   "source": [
    "\n",
    "'''\n",
    "4-4 一百万：创建一个列表，其中包含数字 1~1 000 000，再使用一个 for 循环将这\n",
    "些数字打印出来（如果输出的时间太长，按 Ctrl + C 停止输出，或关闭输出窗口）\n",
    "'''\n",
    "nums=[num for num in range(1,101)]\n",
    "for num in nums:\n",
    "    print(num)"
   ]
  },
  {
   "cell_type": "code",
   "execution_count": 5,
   "metadata": {},
   "outputs": [
    {
     "name": "stdout",
     "output_type": "stream",
     "text": [
      "1\n",
      "100\n",
      "5050\n"
     ]
    }
   ],
   "source": [
    "'''\n",
    "4-5 计算 1~1 000 000 的总和：创建一个列表，其中包含数字 1~1 000 000，再使用\n",
    "min()和 max()核实该列表确实是从 1 开始，到 1 000 000 结束的。另外，对这个列表调\n",
    "用函数 sum()，看看 Python 将一百万个数字相加需要多长时间。\n",
    "'''\n",
    "nums=[num for num in range(1,101)]\n",
    "print(min(nums))\n",
    "print(max(nums))\n",
    "print(sum(nums))"
   ]
  },
  {
   "cell_type": "code",
   "execution_count": 6,
   "metadata": {},
   "outputs": [
    {
     "name": "stdout",
     "output_type": "stream",
     "text": [
      "[1, 3, 5, 7, 9, 11, 13, 15, 17, 19]\n",
      "1\n",
      "3\n",
      "5\n",
      "7\n",
      "9\n",
      "11\n",
      "13\n",
      "15\n",
      "17\n",
      "19\n"
     ]
    }
   ],
   "source": [
    "'''\n",
    "4-6 奇数：通过给函数 range()指定第三个参数来创建一个列表，其中包含 1~20 的\n",
    "奇数；再使用一个 for 循环将这些数字都打印出来。\n",
    "'''\n",
    "nums=[num for num in range(1,21,2)]\n",
    "print(nums)\n",
    "for num in nums:\n",
    "    print(num)"
   ]
  },
  {
   "cell_type": "code",
   "execution_count": 7,
   "metadata": {},
   "outputs": [
    {
     "name": "stdout",
     "output_type": "stream",
     "text": [
      "3\n",
      "6\n",
      "9\n",
      "12\n",
      "15\n",
      "18\n",
      "21\n",
      "24\n",
      "27\n",
      "30\n"
     ]
    }
   ],
   "source": [
    "'''\n",
    "4-7 3 的倍数：创建一个列表，其中包含 3~30 内能被 3 整除的数字；再使用一个 for\n",
    "循环将这个列表中的数字都打印出来。\n",
    "'''\n",
    "nums=[num for num in range(3,31,3)]\n",
    "for num in nums:\n",
    "    print(num)"
   ]
  },
  {
   "cell_type": "code",
   "execution_count": 8,
   "metadata": {},
   "outputs": [
    {
     "name": "stdout",
     "output_type": "stream",
     "text": [
      "1\n",
      "8\n",
      "27\n",
      "64\n",
      "125\n",
      "216\n",
      "343\n",
      "512\n",
      "729\n",
      "1000\n"
     ]
    }
   ],
   "source": [
    "'''\n",
    "4-8 立方：将同一个数字乘三次称为立方。例如，在 Python 中， 2 的立方用 2**3\n",
    "表示。请创建一个列表，其中包含前 10 个整数（即 1~10）的立方，再使用一个 for 循\n",
    "环将这些立方数都打印出来\n",
    "'''\n",
    "nums=[num**3 for num in range(1,11)]\n",
    "for num in nums:\n",
    "    print(num)"
   ]
  },
  {
   "cell_type": "code",
   "execution_count": 9,
   "metadata": {},
   "outputs": [
    {
     "name": "stdout",
     "output_type": "stream",
     "text": [
      "[1, 8, 27, 64, 125, 216, 343, 512, 729, 1000]\n"
     ]
    }
   ],
   "source": [
    "'''\n",
    "4-9 立方解析：使用列表解析生成一个列表，其中包含前 10 个整数的立方。(同4-8对调~)\n",
    "'''\n",
    "nums=[]\n",
    "for num in range(1,11):\n",
    "    nums.append(num**3)\n",
    "print(nums)"
   ]
  },
  {
   "cell_type": "code",
   "execution_count": 10,
   "metadata": {},
   "outputs": [
    {
     "name": "stdout",
     "output_type": "stream",
     "text": [
      "ff\n",
      "ss\n",
      "dd\n",
      "33s\n",
      "22\n",
      "The first three items in the list are:\n",
      "['ff', 'ss', 'dd']\n",
      "Three items from the middle of the list are:\n",
      "['ss', 'dd', '33s']\n",
      "The last three items in the list are:\n",
      "['dd', '33s', '22']\n"
     ]
    }
   ],
   "source": [
    "'''\n",
    "4-10 切片：选择你在本章编写的一个程序，在末尾添加几行代码，以完成如下任务。\n",
    " 打印消息“The first three items in the list are:”，再使用切片来打印列表的前三个\n",
    "元素。\n",
    " 打印消息“Three items from the middle of the list are:”，再使用切片来打印列表中\n",
    "间的三个元素。\n",
    " 打印消息“The last three items in the list are:”，再使用切片来打印列表末尾的三\n",
    "个元素。\n",
    "'''\n",
    "nums=['ff','ss','dd','33s','22']\n",
    "for num in nums:\n",
    "    print(num)\n",
    "print('The first three items in the list are:')\n",
    "print(nums[:3])\n",
    "print('Three items from the middle of the list are:')\n",
    "print(nums[1:-1])\n",
    "print('The last three items in the list are:')\n",
    "print(nums[-3:])"
   ]
  },
  {
   "cell_type": "code",
   "execution_count": 11,
   "metadata": {},
   "outputs": [
    {
     "name": "stdout",
     "output_type": "stream",
     "text": [
      "My favorite pizzas are:\n",
      "apple, banana, pear, peach, \n",
      "My friend’s favorite pizzas are:\n",
      "apple, banana, pear, lemon, \n"
     ]
    }
   ],
   "source": [
    "'''\n",
    "4-11 你的比萨和我的比萨：在你为完成练习 4-1 而编写的程序中，创建比萨列表的\n",
    "副本，并将其存储到变量 friend_pizzas 中，再完成如下任务。\n",
    " 在原来的比萨列表中添加一种比萨。\n",
    " 在列表 friend_pizzas 中添加另一种比萨。\n",
    " 核实你有两个不同的列表。为此，打印消息“My favorite pizzas are:”，再使用一\n",
    "个 for 循环来打印第一个列表；打印消息“My friend’s favorite pizzas are:”，再使\n",
    "用一个 for 循环来打印第二个列表。核实新增的比萨被添加到了正确的列表中。\n",
    "'''\n",
    "pizzas = ['apple','banana','pear']\n",
    "friend_pizzas = pizzas[:]\n",
    " \n",
    "pizzas.append('peach')\n",
    "friend_pizzas.append('lemon')\n",
    " \n",
    "print('My favorite pizzas are:')\n",
    "for pizza in pizzas:\n",
    "\tprint(pizza+', ',end='')\n",
    "print()\n",
    " \n",
    "print('My friend’s favorite pizzas are:')\n",
    "for pizza in friend_pizzas:\n",
    "\tprint(pizza+', ',end='')\n",
    "print()\n"
   ]
  },
  {
   "cell_type": "code",
   "execution_count": 12,
   "metadata": {},
   "outputs": [
    {
     "name": "stdout",
     "output_type": "stream",
     "text": [
      "My favorite foods are:\n",
      "pizza falafel carrot cake \n",
      "\n",
      "My friend's favorite foods are:\n",
      "pizza falafel carrot cake \n"
     ]
    }
   ],
   "source": [
    "'''\n",
    "4-12 使用多个循环：在本节中，为节省篇幅，程序 foods.py 的每个版本都没有使用\n",
    "for 循环来打印列表。请选择一个版本的 foods.py，在其中编写两个 for 循环，将各个\n",
    "食品列表都打印出来\n",
    "'''\n",
    "\n",
    "my_foods = ['pizza', 'falafel', 'carrot cake']\n",
    "friend_foods = my_foods[:]\n",
    "print(\"My favorite foods are:\")\n",
    "for pizza in my_foods:\n",
    "\tprint(pizza+' ',end='')\n",
    "print()\n",
    " \n",
    "print(\"\\nMy friend's favorite foods are:\")\n",
    "for pizza in friend_foods:\n",
    "\tprint(pizza+' ',end='')\n",
    "print()\n"
   ]
  },
  {
   "cell_type": "code",
   "execution_count": 13,
   "metadata": {},
   "outputs": [
    {
     "name": "stdout",
     "output_type": "stream",
     "text": [
      "cake sushi BBQ fish Porridge \n",
      "cake sushi BBQ Noodles soup \n"
     ]
    }
   ],
   "source": [
    "'''\n",
    "4-13 自助餐：有一家自助式餐馆，只提供五种简单的食品。请想出五种简单的食\n",
    "品，并将其存储在一个元组中。\n",
    " 使用一个 for 循环将该餐馆提供的五种食品都打印出来。\n",
    " 尝试修改其中的一个元素，核实 Python 确实会拒绝你这样做。\n",
    " 餐馆调整了菜单，替换了它提供的其中两种食品。请编写一个这样的代码块：\n",
    "给元组变量赋值，并使用一个 for 循环将新元组的每个元素都打印出来\n",
    "'''\n",
    " \n",
    "foods = ('cake','sushi','BBQ','fish','Porridge')\n",
    " \n",
    "for food in foods:\n",
    "\tprint(food+' ',end='')\n",
    "print()\n",
    " \n",
    "'''\n",
    "food[0] = 'bear'\n",
    " \n",
    "'''\n",
    " \n",
    "foods =('cake','sushi','BBQ','Noodles','soup')\n",
    "for food in foods:\n",
    "\tprint(food+' ',end='')\n",
    "print()\n",
    "#元祖中的元素是不可更改的"
   ]
  }
 ],
 "metadata": {
  "kernelspec": {
   "display_name": "Python 3",
   "language": "python",
   "name": "python3"
  },
  "language_info": {
   "codemirror_mode": {
    "name": "ipython",
    "version": 3
   },
   "file_extension": ".py",
   "mimetype": "text/x-python",
   "name": "python",
   "nbconvert_exporter": "python",
   "pygments_lexer": "ipython3",
   "version": "3.7.0"
  }
 },
 "nbformat": 4,
 "nbformat_minor": 2
}
