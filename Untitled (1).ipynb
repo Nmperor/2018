{
 "cells": [
  {
   "cell_type": "code",
   "execution_count": 1,
   "metadata": {},
   "outputs": [
    {
     "name": "stdout",
     "output_type": "stream",
     "text": [
      "广夏\n",
      "大棚\n",
      "斌\n"
     ]
    }
   ],
   "source": [
    "#3-1 姓名： 将一些朋友的姓名存储在一个列表中，并将其命名为 names。依次访问\n",
    "#r该列表中的每个元素，从而将每个朋友的姓名都打印出来。\n",
    "names=['广夏','大棚','斌']\n",
    "for i in names:\n",
    "    print(i)"
   ]
  },
  {
   "cell_type": "code",
   "execution_count": 2,
   "metadata": {},
   "outputs": [
    {
     "name": "stdout",
     "output_type": "stream",
     "text": [
      "广夏,好久不见，还好吗？\n",
      "大棚,好久不见，还好吗？\n",
      "斌,好久不见，还好吗？\n"
     ]
    }
   ],
   "source": [
    "'''\n",
    "3-2 问候语： 继续使用练习 3-1 中的列表，但不打印每个朋友的姓名，而为每人打\n",
    "印一条消息。每条消息都包含相同的问候语，但抬头为相应朋友的姓名。\n",
    "'''\n",
    "names=['广夏','大棚','斌']\n",
    "for i in names:\n",
    "    wenhou=i+',好久不见，还好吗？'\n",
    "    print(wenhou)"
   ]
  },
  {
   "cell_type": "code",
   "execution_count": 3,
   "metadata": {},
   "outputs": [
    {
     "name": "stdout",
     "output_type": "stream",
     "text": [
      "i would like to on foot!\n",
      "i would like to by car!\n",
      "i would like to by airplan!\n"
     ]
    }
   ],
   "source": [
    "'''\n",
    "3-3 自己的列表： 想想你喜欢的通勤方式，如骑摩托车或开汽车，并创建一个包含\n",
    "多种通勤方式的列表。根据该列表打印一系列有关这些通勤方式的宣言，如“I would like\n",
    "to own a Honda motorcycle”。\n",
    "'''\n",
    "style=['on foot','by car','by airplan']\n",
    "for like in style:\n",
    "    print('i would like to '+like+'!')"
   ]
  },
  {
   "cell_type": "code",
   "execution_count": 4,
   "metadata": {},
   "outputs": [
    {
     "name": "stdout",
     "output_type": "stream",
     "text": [
      "yy,have a dinner all right?\n",
      "cc,have a dinner all right?\n",
      "dd,have a dinner all right?\n"
     ]
    }
   ],
   "source": [
    "\n",
    "'''\n",
    "3-4 嘉宾名单：如果你可以邀请任何人一起共进晚餐（无论是在世的还是故去的），\n",
    "你会邀请哪些人？请创建一个列表，其中包含至少 3 个你想邀请的人；然后，使用这个\n",
    "列表打印消息，邀请这些人来与你共进晚餐。\n",
    "'''\n",
    "friends=['yy','cc','dd']\n",
    "for friend in friends :\n",
    "    print(friend+',have a dinner all right?')"
   ]
  },
  {
   "cell_type": "code",
   "execution_count": 5,
   "metadata": {},
   "outputs": [
    {
     "name": "stdout",
     "output_type": "stream",
     "text": [
      "yy,to have a dinner cc,to have a dinner dd,to have a dinner cc,have a dinner all right?\n",
      "dd,have a dinner all right?\n",
      "ss,have a dinner all right?\n"
     ]
    }
   ],
   "source": [
    "'''3-5 修改嘉宾名单：你刚得知有位嘉宾无法赴约，因此需要另外邀请一位嘉宾。\n",
    " 以完成练习 3-4 时编写的程序为基础，在程序末尾添加一条 print 语句，指出哪位嘉宾无法赴约。\n",
    " 修改嘉宾名单，将无法赴约的嘉宾的姓名替换为新邀请的嘉宾的姓名。\n",
    " 再次打印一系列消息，向名单中的每位嘉宾发出邀请。\n",
    "'''\n",
    "friends=['yy','cc','dd']\n",
    "for friend in friends :\n",
    "    print(friend+',to have a dinner ',end='')\n",
    "friends.remove('yy')\n",
    "friends.append('ss')\n",
    "\n",
    "for friend in friends :\n",
    "    print(friend+',have a dinner all right?')\n",
    "\n"
   ]
  },
  {
   "cell_type": "code",
   "execution_count": 6,
   "metadata": {},
   "outputs": [
    {
     "name": "stdout",
     "output_type": "stream",
     "text": [
      "本来详请cc.dd.ss.一起吃饭\n"
     ]
    }
   ],
   "source": [
    "names=['cc','dd','ss']\n",
    "print('本来详请',end='')\n",
    "for i in names:\n",
    "    print(i+'.',end='')\n",
    "print('一起吃饭')"
   ]
  },
  {
   "cell_type": "code",
   "execution_count": 7,
   "metadata": {},
   "outputs": [
    {
     "name": "stdout",
     "output_type": "stream",
     "text": [
      "I want to invite mother, to have dinner with me!\n",
      "But to my disappointment, grandparents can not have fun with me.\n",
      "I invite mother, father, cousins, sister father, to have dinner with me!\n",
      "But to my disappointment, cousins can not have fun with me.\n",
      "I invite mother, father, cousins, sister cousins, to have dinner with me!\n",
      "But to my disappointment, cousins can not have fun with me.\n",
      "I invite mother, father, cousins, sister sister "
     ]
    }
   ],
   "source": [
    "persons = ['mother','father','grandparents','sister']\n",
    "print('I want to invite ',end ='')\n",
    "for person in persons:\n",
    "    if person == persons[len(persons)-1]:\n",
    "        print(person+' ',end='')\n",
    "    else:\n",
    "        print(person+', ',end='') \n",
    "        print('to have dinner with me!')\n",
    "        print('But to my disappointment, '+persons[2]+' can not have fun with me.') \n",
    "        persons[2] = 'cousins'\n",
    "        print('I invite ',end ='')\n",
    "        for person in persons:\n",
    "            if person == persons[len(persons)-1]:\n",
    "                print(person+' ',end='')\n",
    "            else:\n",
    "                print(person+', ',end='') \n",
    "\n"
   ]
  }
 ],
 "metadata": {
  "kernelspec": {
   "display_name": "Python 3",
   "language": "python",
   "name": "python3"
  },
  "language_info": {
   "codemirror_mode": {
    "name": "ipython",
    "version": 3
   },
   "file_extension": ".py",
   "mimetype": "text/x-python",
   "name": "python",
   "nbconvert_exporter": "python",
   "pygments_lexer": "ipython3",
   "version": "3.7.0"
  }
 },
 "nbformat": 4,
 "nbformat_minor": 2
}
